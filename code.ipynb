{
 "cells": [
  {
   "cell_type": "code",
   "execution_count": null,
   "metadata": {},
   "outputs": [],
   "source": [
    "import cv2\n",
    "import mediapipe as mp\n",
    "import torch\n",
    "import numpy as np\n",
    "from ultralytics import YOLO\n",
    "\n",
    "# Initialize MediaPipe Face Mesh\n",
    "mp_face_mesh = mp.solutions.face_mesh\n",
    "face_mesh = mp_face_mesh.FaceMesh()\n",
    "\n",
    "# Load YOLOv8 model\n",
    "model_path = \"yolov8n.pt\"  # Ensure you have the trained model\n",
    "model = YOLO(model_path)\n",
    "\n",
    "# Open webcam\n",
    "cap = cv2.VideoCapture(0)\n",
    "\n",
    "while True:\n",
    "    ret, frame = cap.read()\n",
    "    if not ret:\n",
    "        break\n",
    "    \n",
    "    # YOLOv8 face detection\n",
    "    results = model(frame)\n",
    "    detections = results[0].boxes.xyxy.cpu().numpy()\n",
    "    \n",
    "    for det in detections:\n",
    "        x1, y1, x2, y2 = map(int, det)\n",
    "        face_roi = frame[y1:y2, x1:x2]\n",
    "        \n",
    "        # Convert to RGB for MediaPipe\n",
    "        rgb_face = cv2.cvtColor(face_roi, cv2.COLOR_BGR2RGB)\n",
    "        results = face_mesh.process(rgb_face)\n",
    "        \n",
    "        if results.multi_face_landmarks:\n",
    "            for face_landmarks in results.multi_face_landmarks:\n",
    "                for landmark in face_landmarks.landmark:\n",
    "                    h, w, _ = face_roi.shape\n",
    "                    x, y = int(landmark.x * w) + x1, int(landmark.y * h) + y1\n",
    "                    cv2.circle(frame, (x, y), 1, (0, 255, 0), -1)\n",
    "        \n",
    "        cv2.rectangle(frame, (x1, y1), (x2, y2), (255, 0, 0), 2)\n",
    "    \n",
    "    # Display output\n",
    "    cv2.imshow(\"Face Profiling\", frame)\n",
    "    \n",
    "    if cv2.waitKey(1) & 0xFF == ord('q'):\n",
    "        break\n",
    "\n",
    "cap.release()\n",
    "cv2.destroyAllWindows()\n"
   ]
  }
 ],
 "metadata": {
  "kernelspec": {
   "display_name": "Python 3 (ipykernel)",
   "language": "python",
   "name": "python3"
  },
  "language_info": {
   "codemirror_mode": {
    "name": "ipython",
    "version": 3
   },
   "file_extension": ".py",
   "mimetype": "text/x-python",
   "name": "python",
   "nbconvert_exporter": "python",
   "pygments_lexer": "ipython3",
   "version": "3.13.0"
  }
 },
 "nbformat": 4,
 "nbformat_minor": 4
}
